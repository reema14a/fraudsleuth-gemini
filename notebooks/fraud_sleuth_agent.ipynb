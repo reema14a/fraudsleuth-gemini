{
 "cells": [
  {
   "cell_type": "markdown",
   "metadata": {},
   "source": [
    "# **FraudSleuth Gen AI**"
   ]
  },
  {
   "cell_type": "markdown",
   "metadata": {},
   "source": [
    "## 1. Setup and Imports"
   ]
  },
  {
   "cell_type": "code",
   "execution_count": 3,
   "metadata": {},
   "outputs": [],
   "source": [
    "# Environment\n",
    "import os\n",
    "from dotenv import load_dotenv\n",
    "load_dotenv()\n",
    "\n",
    "# LLM + LangChain\n",
    "from google import genai\n",
    "from google.genai import types\n",
    "from google.api_core import retry\n",
    "# from langchain.prompts import PromptTemplate\n",
    "# from langchain.chains import LLMChain\n",
    "from langchain_core.runnables import Runnable\n",
    "from langchain_core.prompts import PromptTemplate\n",
    "#from langchain.agents import initialize_agent, Tool, AgentType\n",
    "#from langchain.memory import ConversationBufferMemory\n",
    "from langchain_google_genai.chat_models import ChatGoogleGenerativeAI\n",
    "from langgraph.graph import StateGraph, END\n",
    "\n",
    "# ChromaDB\n",
    "import chromadb\n",
    "from chromadb import Documents, EmbeddingFunction, Embeddings\n",
    "\n",
    "# Requests for Fraud API\n",
    "import requests\n",
    "\n",
    "import re\n",
    "\n",
    "# MLFLow\n",
    "import mlflow"
   ]
  },
  {
   "cell_type": "markdown",
   "metadata": {},
   "source": [
    "## 2. Config"
   ]
  },
  {
   "cell_type": "code",
   "execution_count": 4,
   "metadata": {},
   "outputs": [],
   "source": [
    "# Example .env usage (you can inline if needed)\n",
    "GEMINI_API_KEY = os.getenv(\"GEMINI_API_KEY\")\n",
    "FRAUD_API_KEY = os.getenv(\"FRAUD_API_KEY\")\n",
    "\n",
    "GENAI_MODEL=\"gemini-2.0-flash\"\n",
    "EMBEDDING_MODEL = \"models/embedding-001\"\n",
    "CHROMA_COLLECTION_NAME = \"fraud_docs\"\n",
    "\n",
    "FRAUD_API_URL = \"https://ipqualityscore.com/api/json\"\n"
   ]
  },
  {
   "cell_type": "code",
   "execution_count": 5,
   "metadata": {},
   "outputs": [],
   "source": [
    "# Authenticate Gemini\n",
    "client = genai.Client(api_key = GEMINI_API_KEY)\n",
    "\n",
    "is_retriable = lambda e: (isinstance(e, genai.errors.APIError) and e.code in {429, 503})\n",
    "\n",
    "genai.models.Models.generate_content = retry.Retry(\n",
    "    predicate=is_retriable)(genai.models.Models.generate_content)"
   ]
  },
  {
   "cell_type": "markdown",
   "metadata": {},
   "source": [
    "## 3. Embedding Function"
   ]
  },
  {
   "cell_type": "code",
   "execution_count": 6,
   "metadata": {},
   "outputs": [],
   "source": [
    "class GeminiEmbeddingFunction(EmbeddingFunction):\n",
    "    # Specify whether to generate embeddings for documents, or queries\n",
    "    def __init__(self, document_mode=True):\n",
    "        self.document_mode = document_mode\n",
    "\n",
    "    def __call__(self, input: Documents) -> Embeddings:\n",
    "        if self.document_mode:\n",
    "            embedding_task = \"retrieval_document\"\n",
    "        else:\n",
    "            embedding_task = \"retrieval_query\"\n",
    "\n",
    "        \n",
    "        response = client.models.embed_content(\n",
    "                                    model = EMBEDDING_MODEL,\n",
    "                                    contents = input,\n",
    "                                    config = types.EmbedContentConfig(\n",
    "                                        task_type = embedding_task,\n",
    "                                    )\n",
    "                                )\n",
    "        \n",
    "        # Return list of embedding vectors\n",
    "        return [e.values for e in response.embeddings]"
   ]
  },
  {
   "cell_type": "markdown",
   "metadata": {},
   "source": [
    "## 4. Chroma Vector Search"
   ]
  },
  {
   "cell_type": "code",
   "execution_count": 7,
   "metadata": {},
   "outputs": [],
   "source": [
    "class ChromaVectorSearch:\n",
    "\n",
    "    def __init__(self, persist_directory=\"chroma_db\", collection_name = CHROMA_COLLECTION_NAME):\n",
    "        \n",
    "        self.persist_directory = persist_directory\n",
    "        self.collection_name = collection_name\n",
    "        self.client = chromadb.PersistentClient(path = self.persist_directory)\n",
    "        self.embed_fn = GeminiEmbeddingFunction(document_mode = True)\n",
    "    \n",
    "        # Create or get collection\n",
    "        self.collection = self.client.get_or_create_collection(name = self.collection_name,\n",
    "                                                               embedding_function = self.embed_fn)\n",
    "        \n",
    "        self.load_documents_from_file(\"../data/knowledge_base.txt\")\n",
    "\n",
    "    def load_documents_from_file(self, file_path: str):\n",
    "        if os.path.exists(file_path):\n",
    "            with open(file_path, \"r\") as f:\n",
    "                docs = [line.strip() for line in f if line.strip()]\n",
    "                self.add_documents(docs)\n",
    "                print(f\"✅ Loaded {len(docs)} documents from {file_path} into ChromaDB.\")\n",
    "        else:\n",
    "            print(f\"⚠️ File not found: {file_path}\")\n",
    "\n",
    "    def add_documents(self, documents: list[str], ids: list[str] = None):\n",
    "        \"\"\"\n",
    "        Adds documents to ChromaDB with embeddings.\n",
    "        \"\"\"\n",
    "        if not documents:\n",
    "            print(\"⚠️ No documents to add.\")\n",
    "            return\n",
    "        if ids is None:\n",
    "            ids = [str(i) for i in range(len(documents))]\n",
    "        self.collection.add(documents = documents, ids = ids)\n",
    "\n",
    "    def query(self, text: str, n_results: int = 5):\n",
    "        \"\"\"\n",
    "        Queries the collection for top matching documents.\n",
    "        \"\"\"\n",
    "\n",
    "        results = self.collection.query(query_texts=[text], n_results = n_results)\n",
    "        return results\n",
    "\n",
    "    def reset_collection(self):\n",
    "        self.client.delete_collection(self.collection_name)\n",
    "        self.collection = self.client.get_or_create_collection(name = self.collection_name, \n",
    "                                                               embedding_function = self.embed_fn)"
   ]
  },
  {
   "cell_type": "markdown",
   "metadata": {},
   "source": [
    "## 5. Fraud Detection API Tool"
   ]
  },
  {
   "cell_type": "code",
   "execution_count": 8,
   "metadata": {},
   "outputs": [],
   "source": [
    "class FraudChecker:\n",
    "    def __init__(self):\n",
    "        self.api_key = FRAUD_API_KEY\n",
    "        self.api_url = FRAUD_API_URL\n",
    "\n",
    "    def check_ip(self, ip: str) -> str:\n",
    "        try:\n",
    "            url = f\"{self.api_url}/ip/{self.api_key}/{ip}\"\n",
    "            response = requests.get(url)\n",
    "            if response.status_code == 200:\n",
    "                data = response.json()\n",
    "                return f\"IP: {ip},\" \\\n",
    "                       f\"Fraud Score: {data.get('fraud_score')}, VPN: {data.get('vpn')},\"\\\n",
    "                       f\" Proxy: {data.get('proxy')}, Tor: {data.get('tor')},\"\\\n",
    "                       f\" Crawler: {data.get('crawler')}, Recent Abuse: {data.get('recent_abuse')},\"\\\n",
    "                       f\" Bot: {data.get('is_bot')}\"\n",
    "            else:\n",
    "                return f\"Error from API: {response.status_code}\"\n",
    "        except Exception as e:\n",
    "            return f\"Exception during fraud check: {str(e)}\"\n",
    "        \n",
    "    def check_email(self, email: str) -> str:\n",
    "        try:\n",
    "            url = f\"{self.api_url}/email/{self.api_key}/{email}\"\n",
    "            response = requests.get(url)\n",
    "            if response.status_code == 200:\n",
    "                data = response.json()\n",
    "                return f\"Email: {email},\" \\\n",
    "                       f\"Fraud Score: {data.get('fraud_score', 'N/A')}, Valid: {data.get('valid')},\"\\\n",
    "                       f\" Disposable: {data.get('disposable')}, Recent Absue: {data.get('recent_abuse')}\"\n",
    "            else:\n",
    "                return f\"Error from API: {response.status_code}\"\n",
    "        except Exception as e:\n",
    "            return f\"Exception during fraud check: {str(e)}\""
   ]
  },
  {
   "cell_type": "markdown",
   "metadata": {},
   "source": [
    "## 6. LangChain Prompt Template and Model Setup"
   ]
  },
  {
   "cell_type": "code",
   "execution_count": 9,
   "metadata": {},
   "outputs": [],
   "source": [
    "# Prompt template to synthesize context and external API result\n",
    "prompt_template = PromptTemplate(\n",
    "    input_variables=[\"query\", \"retrieved_docs\", \"fraud_api_result\"],\n",
    "    template=\"\"\"\n",
    "        You are a fraud detection assistant.\n",
    "\n",
    "        User Query:\n",
    "        {query}\n",
    "\n",
    "        Retrieved Knowledge Context:\n",
    "        {retrieved_docs}\n",
    "\n",
    "        Fraud Check Result (if applicable):\n",
    "        {fraud_api_result}\n",
    "\n",
    "        Based on all of the above, provide a clear and actionable response to the user.\n",
    "        \"\"\"\n",
    "        )\n",
    "\n",
    "# Set up LangChain Gemini Chat model\n",
    "llm = ChatGoogleGenerativeAI(model = GENAI_MODEL, temperature = 0.2, google_api_key = GEMINI_API_KEY)\n",
    "llm_chain: Runnable = prompt_template | llm"
   ]
  },
  {
   "cell_type": "code",
   "execution_count": 10,
   "metadata": {},
   "outputs": [],
   "source": [
    "# Define state\n",
    "from typing import TypedDict\n",
    "\n",
    "class FraudDetectionState(TypedDict):\n",
    "    query: str\n",
    "    retrieved_docs: str\n",
    "    fraud_api_result: str\n",
    "    response: str"
   ]
  },
  {
   "cell_type": "markdown",
   "metadata": {},
   "source": [
    "## 7. Tool Definition and Agent"
   ]
  },
  {
   "cell_type": "code",
   "execution_count": 11,
   "metadata": {},
   "outputs": [
    {
     "name": "stdout",
     "output_type": "stream",
     "text": [
      "✅ Loaded 5 documents from ../data/knowledge_base.txt into ChromaDB.\n"
     ]
    }
   ],
   "source": [
    "# Initialize tools\n",
    "fraud_checker = FraudChecker()\n",
    "vector_search = ChromaVectorSearch()"
   ]
  },
  {
   "cell_type": "code",
   "execution_count": 12,
   "metadata": {},
   "outputs": [],
   "source": [
    "def extract_ip_or_email(query: str):\n",
    "    \"\"\"Basic regex utility to extract IPs or emails from a query.\"\"\"\n",
    "    ip_match = re.search(r'\\b(?:\\d{1,3}\\.){3}\\d{1,3}\\b', query)\n",
    "    email_match = re.search(r'\\b[\\w\\.-]+@[\\w\\.-]+\\.\\w{2,4}\\b', query)\n",
    "    return ip_match.group(0) if ip_match else email_match.group(0) if email_match else None"
   ]
  },
  {
   "cell_type": "code",
   "execution_count": 13,
   "metadata": {},
   "outputs": [],
   "source": [
    "# Vector Search\n",
    "def retrieve_docs(state: FraudDetectionState) -> FraudDetectionState:\n",
    "    print(\"🔧 Tool: Vector Search called...\")\n",
    "    results = vector_search.query(state[\"query\"])\n",
    "    docs = \"\\n\".join(results[\"documents\"][0])\n",
    "    return {**state, \"retrieved_docs\": docs}\n",
    "\n",
    "# Fraud API Check\n",
    "def check_fraud_api(state: FraudDetectionState) -> FraudDetectionState:\n",
    "    print(\"🔧 Tool: Check Fraud API called...\")\n",
    "    suspicious_input = extract_ip_or_email(state[\"query\"])\n",
    "    if suspicious_input:\n",
    "        if \"@\" in suspicious_input:\n",
    "            result = fraud_checker.check_email(suspicious_input)\n",
    "        else:\n",
    "            result = fraud_checker.check_ip(suspicious_input)\n",
    "    else:\n",
    "        result = \"No IP or email detected in query.\"\n",
    "    return {**state, \"fraud_api_result\": result}\n",
    "\n",
    "# Final LLM synthesis\n",
    "def generate_response(state: FraudDetectionState) -> FraudDetectionState:\n",
    "    print(\"🔧 Tool: Generate Response called...\")\n",
    "    response = llm_chain.invoke({\n",
    "        \"query\": state[\"query\"],\n",
    "        \"retrieved_docs\": state[\"retrieved_docs\"],\n",
    "        \"fraud_api_result\": state[\"fraud_api_result\"]\n",
    "    })\n",
    "    return {**state, \"response\": response}"
   ]
  },
  {
   "cell_type": "code",
   "execution_count": 14,
   "metadata": {},
   "outputs": [],
   "source": [
    "graph = StateGraph(FraudDetectionState)\n",
    "\n",
    "# Add nodes\n",
    "graph.add_node(\"vector_search\", retrieve_docs)\n",
    "graph.add_node(\"fraud_check\", check_fraud_api)\n",
    "graph.add_node(\"generate_response\", generate_response)\n",
    "\n",
    "# Define flow\n",
    "graph.set_entry_point(\"vector_search\")\n",
    "graph.add_edge(\"vector_search\", \"fraud_check\")\n",
    "graph.add_edge(\"fraud_check\", \"generate_response\")\n",
    "graph.add_edge(\"generate_response\", END)\n",
    "\n",
    "# Compile the app\n",
    "fraud_graph = graph.compile()"
   ]
  },
  {
   "cell_type": "markdown",
   "metadata": {},
   "source": [
    "## 8. Test Query"
   ]
  },
  {
   "cell_type": "code",
   "execution_count": 15,
   "metadata": {},
   "outputs": [
    {
     "name": "stdout",
     "output_type": "stream",
     "text": [
      "🔧 Tool: Vector Search called...\n",
      "🔧 Tool: Check Fraud API called...\n",
      "🔧 Tool: Generate Response called...\n",
      "Final State: {'query': 'What can you tell me about this IP: 198.51.100.23?', 'retrieved_docs': '\"IP spoofing is a method of fraudulent access where attackers impersonate IP addresses.\"\\n\"Transaction from a suspicious IP address flagged by fraud detection API.\"\\n\"Phishing is a fraudulent attempt to obtain sensitive information by disguising as a trustworthy entity.\"\\n\"Large withdrawals followed by immediate transfer to multiple accounts is a red flag.\"\\n\"Credit card fraud involves unauthorized use of a credit or debit card.\"', 'fraud_api_result': 'IP: 198.51.100.23,Fraud Score: 0, VPN: False, Proxy: False, Tor: False, Crawler: None, Recent Abuse: False, Bot: None', 'response': AIMessage(content=\"Based on the information available, IP address 198.51.100.23 has a fraud score of 0 and is not associated with a VPN, proxy, Tor network, or known crawler. There's no indication of recent abuse or bot activity linked to this IP.\\n\\nWhile the knowledge context mentions IP spoofing and suspicious IP addresses being flagged, this specific IP address (198.51.100.23) does not appear to be suspicious based on the fraud check result.\\n\\nTherefore, at this time, there's no evidence to suggest fraudulent activity originating from this IP address. However, keep in mind that fraud detection is an ongoing process, and this assessment is based on the current data available.\", additional_kwargs={}, response_metadata={'prompt_feedback': {'block_reason': 0, 'safety_ratings': []}, 'finish_reason': 'STOP', 'model_name': 'gemini-2.0-flash', 'safety_ratings': []}, id='run-86aa4219-d1d2-4422-9d45-7c1015c7e8b3-0', usage_metadata={'input_tokens': 209, 'output_tokens': 157, 'total_tokens': 366, 'input_token_details': {'cache_read': 0}})}\n",
      "✅ Final Response: Based on the information available, IP address 198.51.100.23 has a fraud score of 0 and is not associated with a VPN, proxy, Tor network, or known crawler. There's no indication of recent abuse or bot activity linked to this IP.\n",
      "\n",
      "While the knowledge context mentions IP spoofing and suspicious IP addresses being flagged, this specific IP address (198.51.100.23) does not appear to be suspicious based on the fraud check result.\n",
      "\n",
      "Therefore, at this time, there's no evidence to suggest fraudulent activity originating from this IP address. However, keep in mind that fraud detection is an ongoing process, and this assessment is based on the current data available.\n"
     ]
    }
   ],
   "source": [
    "initial_state = {\"query\": \"What can you tell me about this IP: 198.51.100.23?\"}\n",
    "final_state = fraud_graph.invoke(initial_state)\n",
    "print(\"Final State:\", final_state)\n",
    "print(\"✅ Final Response:\", final_state[\"response\"].content)"
   ]
  },
  {
   "cell_type": "markdown",
   "metadata": {},
   "source": [
    "## 9. Run experiments using MLFLow"
   ]
  },
  {
   "cell_type": "code",
   "execution_count": 17,
   "metadata": {},
   "outputs": [],
   "source": [
    "# Sample queries and expected outcomes for evaluation\n",
    "evaluation_data = [\n",
    "    {\"query\": \"Check if 8.8.8.8 is suspicious\", \"expected_contains\": \"not suspicious\"},\n",
    "    {\"query\": \"How do I upgrade my account?\", \"expected_contains\": \"Go to Settings\"},\n",
    "    {\"query\": \"This email looks suspicious: scam@fraudmail.com\", \"expected_contains\": \"fraud score\"},\n",
    "]"
   ]
  },
  {
   "cell_type": "code",
   "execution_count": 25,
   "metadata": {},
   "outputs": [
    {
     "name": "stdout",
     "output_type": "stream",
     "text": [
      "🔧 Tool: Vector Search called...\n",
      "🔧 Tool: Check Fraud API called...\n",
      "🔧 Tool: Generate Response called...\n",
      "\n",
      "🧪 Query 1: Check if 8.8.8.8 is suspicious\n",
      "✅ Agent Response: Based on the information provided, 8.8.8.8 does not appear to be suspicious.\n",
      "\n",
      "*   **Fraud Check Result:** The fraud detection API returned a Fraud Score of 0 for the IP address 8.8.8.8. It is not associated with VPNs, proxies, Tor networks, crawlers, recent abuse, or bots.\n",
      "\n",
      "*   **Knowledge Context:** While the knowledge context mentions suspicious IP addresses, IP spoofing, and phishing, the specific IP address 8.8.8.8 is not flagged as suspicious by the fraud detection API.\n",
      "\n",
      "**Recommendation:**\n",
      "\n",
      "The IP address 8.8.8.8 itself does not raise any immediate red flags based on the available information. However, it's crucial to remember that this is just one data point. Consider the context of the transaction or activity associated with this IP address. If there are other suspicious indicators (e.g., large withdrawals, transfers to multiple accounts, phishing attempts), further investigation may be warranted.\n",
      "🔧 Tool: Vector Search called...\n",
      "🔧 Tool: Check Fraud API called...\n",
      "🔧 Tool: Generate Response called...\n",
      "\n",
      "🧪 Query 2: How do I upgrade my account?\n",
      "✅ Agent Response: The provided knowledge context doesn't contain information about upgrading accounts. It focuses on fraud detection methods and red flags. Therefore, I cannot directly answer your question about upgrading your account.\n",
      "\n",
      "To get help with upgrading your account, you should:\n",
      "\n",
      "1.  **Check the platform's help documentation or FAQ:** Look for sections on account management or subscriptions.\n",
      "2.  **Contact customer support:** They will be able to guide you through the upgrade process. Look for a \"Contact Us\" link or a support email address on the platform's website.\n",
      "3.  **If you are unsure about the legitimacy of the upgrade process, be cautious.** Do not provide sensitive information like credit card details unless you are certain you are on the official platform website. Be wary of phishing attempts.\n",
      "🔧 Tool: Vector Search called...\n",
      "🔧 Tool: Check Fraud API called...\n",
      "🔧 Tool: Generate Response called...\n",
      "\n",
      "🧪 Query 3: This email looks suspicious: scam@fraudmail.com\n",
      "✅ Agent Response: The email address scam@fraudmail.com looks highly suspicious based on our fraud check. It has a high fraud score of 91 and is flagged as invalid. While it's not a disposable email or showing recent abuse, the high fraud score warrants extreme caution.\n",
      "\n",
      "**Actionable Advice:**\n",
      "\n",
      "*   **Do not click on any links or open any attachments in emails from this address.**\n",
      "*   **Do not provide any personal information to anyone contacting you from this email address.**\n",
      "*   **Be aware of phishing attempts.** This email could be an attempt to steal your sensitive information by pretending to be a legitimate organization.\n",
      "*   **Report the email as spam or phishing** to your email provider.\n",
      "*   **If you have already interacted with this email, immediately change your passwords** for any accounts that may have been compromised.\n",
      "*   **Monitor your financial accounts for any unauthorized activity.**\n",
      "\n",
      "📊 Final Evaluation Accuracy: 0.33\n"
     ]
    }
   ],
   "source": [
    "with mlflow.start_run(run_name=\"fraud_agent_eval_langgraph\"):\n",
    "\n",
    "    # Log basic metadata\n",
    "    mlflow.log_param(\"embedding_model\", EMBEDDING_MODEL)\n",
    "    mlflow.log_param(\"llm_model\", GENAI_MODEL)\n",
    "\n",
    "    scores = []\n",
    "\n",
    "    for idx, row in enumerate(evaluation_data):\n",
    "        initial_state = {\"query\": row[\"query\"]}\n",
    "        result = fraud_graph.invoke(initial_state)\n",
    "\n",
    "        # LangGraph returns state – get the final response\n",
    "        response_text = result.get(\"response\", \"\")\n",
    "        print(f\"\\n🧪 Query {idx + 1}: {row['query']}\")\n",
    "        print(f\"✅ Agent Response: {response_text.content}\")\n",
    "\n",
    "        # Simple matching for evaluation\n",
    "        success = row[\"expected_contains\"].lower() in response_text.content.lower()\n",
    "        scores.append(success)\n",
    "\n",
    "        # Log each result\n",
    "        mlflow.log_param(f\"query_{idx + 1}\", row[\"query\"])\n",
    "        mlflow.log_param(f\"result_{idx + 1}\", response_text.content)\n",
    "        \n",
    "        mlflow.log_metric(f\"query_{idx + 1}_success\", int(success))\n",
    "\n",
    "        usage = result[\"response\"].usage_metadata\n",
    "        mlflow.log_metric(\"output_token_length\", usage[\"output_tokens\"])\n",
    "        mlflow.log_metric(\"input_token_length\", usage[\"input_tokens\"])\n",
    "\n",
    "    # Aggregate metric\n",
    "    accuracy = sum(scores) / len(scores)\n",
    "    mlflow.log_metric(\"overall_accuracy\", accuracy)\n",
    "    print(f\"\\n📊 Final Evaluation Accuracy: {accuracy:.2f}\")"
   ]
  },
  {
   "cell_type": "code",
   "execution_count": null,
   "metadata": {},
   "outputs": [],
   "source": []
  }
 ],
 "metadata": {
  "kernelspec": {
   "display_name": "fraudAgent",
   "language": "python",
   "name": "python3"
  },
  "language_info": {
   "codemirror_mode": {
    "name": "ipython",
    "version": 3
   },
   "file_extension": ".py",
   "mimetype": "text/x-python",
   "name": "python",
   "nbconvert_exporter": "python",
   "pygments_lexer": "ipython3",
   "version": "3.12.9"
  }
 },
 "nbformat": 4,
 "nbformat_minor": 2
}
